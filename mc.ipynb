{
 "cells": [
  {
   "cell_type": "code",
   "execution_count": 1,
   "metadata": {},
   "outputs": [],
   "source": [
    "import random\n",
    "import numpy as np\n",
    "from sklearn.linear_model import LinearRegression\n",
    "from sklearn.neural_network import MLPRegressor\n",
    "import warnings\n",
    "warnings.filterwarnings(\"ignore\")\n",
    "from modelcaller import ModelCaller, MCconfig, mc_wrapd, mc_wrap\n",
    "random.seed(42)\n",
    "\n",
    "def generate_data(f, count=1000, scale=100):\n",
    "    global globalx\n",
    "    inputs = np.zeros((count, 3))\n",
    "    outputs = np.zeros(count)\n",
    "    for i in range(count):\n",
    "        globalx = random.random() * scale\n",
    "        x0 = random.random() * scale\n",
    "        x1 = random.random() * scale\n",
    "        inputs[i] = [x0, x1, globalx]\n",
    "        outputs[i] = f(x0, x1)\n",
    "    return inputs, outputs\n",
    "\n",
    "def repeat_function(f, arity=2, count=10, scale=100):\n",
    "    global globalx\n",
    "    for _ in range(count):\n",
    "        globalx = random.random() * scale\n",
    "        args = [random.random() * scale for _ in range(arity)]\n",
    "        f(*args)"
   ]
  },
  {
   "cell_type": "code",
   "execution_count": 2,
   "metadata": {},
   "outputs": [],
   "source": [
    "@mc_wrapd(cargs=['globalx'])\n",
    "def f(x0, x1): \n",
    "    global globalx\n",
    "    return 3 * x0 + x1 + globalx"
   ]
  },
  {
   "cell_type": "code",
   "execution_count": 3,
   "metadata": {},
   "outputs": [
    {
     "name": "stdout",
     "output_type": "stream",
     "text": [
      "A new wrapped MC with one context argument: auto_cache=True, auto_id=False, auto_eval=True, auto_train=True, edata_fraction=0.3, feedback_fraction=0.1, qlty_threshold=0.95, ncargs=0, call_target:host, #functions:0, model-qualities:[], #tdata:0, #edata:0; tinputs:[]; toutputs:[]; einputs:[]; eoutputs:[]\n"
     ]
    }
   ],
   "source": [
    "mc = f._mc\n",
    "mc.print('A new wrapped MC with one context argument', full=True)"
   ]
  },
  {
   "cell_type": "code",
   "execution_count": 4,
   "metadata": {},
   "outputs": [
    {
     "name": "stdout",
     "output_type": "stream",
     "text": [
      "After a few function calls: call_target:host, #functions:0, model-qualities:[], #tdata:7, #edata:3; tinputs:...[[82.9, 61.9, 55.2], [10.1, 27.8, 23.3]]; toutputs:...[365.9, 81.4]; einputs:...[[22.0, 58.9, 54.5], [4.6, 22.8, 70.5]]; eoutputs:...[179.6, 107.0]\n"
     ]
    }
   ],
   "source": [
    "repeat_function(f)\n",
    "mc.print('After a few function calls')"
   ]
  },
  {
   "cell_type": "code",
   "execution_count": 5,
   "metadata": {},
   "outputs": [
    {
     "name": "stdout",
     "output_type": "stream",
     "text": [
      "After adding a model: call_target:host, #functions:0, model-qualities:[False], #tdata:7, #edata:3; tinputs:...[[82.9, 61.9, 55.2], [10.1, 27.8, 23.3]]; toutputs:...[365.9, 81.4]; einputs:...[[22.0, 58.9, 54.5], [4.6, 22.8, 70.5]]; eoutputs:...[179.6, 107.0]\n",
      "Compare Model 0 score = 1.0 with qlty_threshold 0.95 => quality = True\n",
      "After training and evaluating the added model: call_target:both, #functions:0, model-qualities:[True], #tdata:7, #edata:3; tinputs:...[[82.9, 61.9, 55.2], [10.1, 27.8, 23.3]]; toutputs:...[365.9, 81.4]; einputs:...[[22.0, 58.9, 54.5], [4.6, 22.8, 70.5]]; eoutputs:...[179.6, 107.0]\n"
     ]
    }
   ],
   "source": [
    "mc.add_model(LinearRegression())\n",
    "mc.print('After training and evaluating the added model')"
   ]
  },
  {
   "cell_type": "code",
   "execution_count": 6,
   "metadata": {},
   "outputs": [
    {
     "name": "stdout",
     "output_type": "stream",
     "text": [
      "After a few more function calls: call_target:both, #functions:0, model-qualities:[True], #tdata:13, #edata:7; tinputs:...[[26.3, 58.5, 56.1], [99.6, 52.9, 38.2]]; toutputs:...[193.4, 389.9]; einputs:...[[99.8, 51.0, 21.9], [62.7, 79.2, 11.0]]; eoutputs:...[372.1, 278.4]\n"
     ]
    }
   ],
   "source": [
    "repeat_function(f)\n",
    "mc.print('After a few more function calls')"
   ]
  },
  {
   "cell_type": "code",
   "execution_count": 7,
   "metadata": {},
   "outputs": [
    {
     "name": "stdout",
     "output_type": "stream",
     "text": [
      "After merging host function: call_target:MC, #functions:1, model-qualities:[True], #tdata:13, #edata:7; tinputs:...[[26.3, 58.5, 56.1], [99.6, 52.9, 38.2]]; toutputs:...[193.4, 389.9]; einputs:...[[99.8, 51.0, 21.9], [62.7, 79.2, 11.0]]; eoutputs:...[372.1, 278.4]\n",
      "After a few more function calls: call_target:MC, #functions:1, model-qualities:[True], #tdata:18, #edata:12; tinputs:...[[55.0, 26.5, 47.5], [53.9, 73.0, 21.2]]; toutputs:...[239.0, 256.0]; einputs:...[[5.8, 87.8, 30.8], [6.9, 76.1, 48.6]]; eoutputs:...[135.9, 145.4]\n"
     ]
    }
   ],
   "source": [
    "if mc.get_call_target() == 'both': \n",
    "    mc.merge_host()\n",
    "    mc.print('After merging host function')\n",
    "    repeat_function(f)\n",
    "    mc.print('After a few more function calls')"
   ]
  },
  {
   "cell_type": "code",
   "execution_count": 8,
   "metadata": {},
   "outputs": [
    {
     "name": "stdout",
     "output_type": "stream",
     "text": [
      "After adding a model: call_target:MC, #functions:1, model-qualities:[True, False], #tdata:18, #edata:12; tinputs:...[[55.0, 26.5, 47.5], [53.9, 73.0, 21.2]]; toutputs:...[239.0, 256.0]; einputs:...[[5.8, 87.8, 30.8], [6.9, 76.1, 48.6]]; eoutputs:...[135.9, 145.4]\n",
      "Compare Model 1 score = -12.326023911638964 with qlty_threshold 0.95 => quality = False\n",
      "After training and evaluating the added model: call_target:MC, #functions:1, model-qualities:[True, False], #tdata:18, #edata:12; tinputs:...[[55.0, 26.5, 47.5], [53.9, 73.0, 21.2]]; toutputs:...[239.0, 256.0]; einputs:...[[5.8, 87.8, 30.8], [6.9, 76.1, 48.6]]; eoutputs:...[135.9, 145.4]\n",
      "After a few more function calls: call_target:MC, #functions:1, model-qualities:[True, False], #tdata:25, #edata:15; tinputs:...[[27.9, 25.0, 42.2], [55.0, 5.1, 86.1]]; toutputs:...[150.7, 256.3]; einputs:...[[33.8, 58.8, 22.5], [23.8, 66.9, 7.1]]; eoutputs:...[182.7, 145.4]\n"
     ]
    }
   ],
   "source": [
    "midx = mc.add_model(MLPRegressor(hidden_layer_sizes=(), activation='identity'))\n",
    "mc.print('After training and evaluating the added model')\n",
    "repeat_function(f)\n",
    "mc.print('After a few more function calls')"
   ]
  },
  {
   "cell_type": "code",
   "execution_count": 9,
   "metadata": {},
   "outputs": [
    {
     "name": "stdout",
     "output_type": "stream",
     "text": [
      "After adding more data but before training: call_target:MC, #functions:1, model-qualities:[True, False], #tdata:1025, #edata:15; tinputs:...[[38.7, 16.3, 28.5], [96.5, 85.7, 57.2]]; toutputs:...[160.8, 432.4]; einputs:...[[33.8, 58.8, 22.5], [23.8, 66.9, 7.1]]; eoutputs:...[182.7, 145.4]\n",
      "Compare Model 0 score = 1.0 with qlty_threshold 0.95 => quality = True\n",
      "Compare Model 1 score = -1.1893491694541063 with qlty_threshold 0.95 => quality = False\n",
      "After training and evaluating with the new data: call_target:MC, #functions:1, model-qualities:[True, False], #tdata:1025, #edata:15; tinputs:...[[38.7, 16.3, 28.5], [96.5, 85.7, 57.2]]; toutputs:...[160.8, 432.4]; einputs:...[[33.8, 58.8, 22.5], [23.8, 66.9, 7.1]]; eoutputs:...[182.7, 145.4]\n",
      "After a few more function calls: call_target:MC, #functions:1, model-qualities:[True, False], #tdata:1033, #edata:17; tinputs:...[[29.9, 15.0, 89.2], [80.2, 60.0, 80.5]]; toutputs:...[193.9, 381.3]; einputs:...[[67.8, 26.9, 64.7], [60.9, 29.8, 64.7]]; eoutputs:...[295.0, 277.3]\n"
     ]
    }
   ],
   "source": [
    "if mc.get_call_target() == 'MC':\n",
    "    xy = generate_data(mc.get_host())\n",
    "    mc.add_dataset(xy[0], xy[1])\n",
    "    mc.print('After adding more data but before training')\n",
    "    mc.train_all()\n",
    "    mc.print('After training and evaluating with the new data')\n",
    "    repeat_function(f)\n",
    "    mc.print('After a few more function calls')"
   ]
  },
  {
   "cell_type": "code",
   "execution_count": 10,
   "metadata": {},
   "outputs": [
    {
     "name": "stdout",
     "output_type": "stream",
     "text": [
      "After updating qlty_threshold: auto_cache=True, auto_id=False, auto_eval=True, auto_train=True, edata_fraction=0.3, feedback_fraction=0.1, qlty_threshold=-100, ncargs=1, call_target:MC, #functions:1, model-qualities:[True, False], #tdata:1033, #edata:17; tinputs:...[[29.9, 15.0, 89.2], [80.2, 60.0, 80.5]]; toutputs:...[193.9, 381.3]; einputs:...[[67.8, 26.9, 64.7], [60.9, 29.8, 64.7]]; eoutputs:...[295.0, 277.3]\n",
      "Compare Model 0 score = 1.0 with qlty_threshold -100 => quality = True\n",
      "Compare Model 1 score = -1.3934905891281475 with qlty_threshold -100 => quality = True\n",
      "After reevaluating all models with the new threshold: call_target:MC, #functions:1, model-qualities:[True, True], #tdata:1033, #edata:17; tinputs:...[[29.9, 15.0, 89.2], [80.2, 60.0, 80.5]]; toutputs:...[193.9, 381.3]; einputs:...[[67.8, 26.9, 64.7], [60.9, 29.8, 64.7]]; eoutputs:...[295.0, 277.3]\n",
      "After a few more function calls: call_target:MC, #functions:1, model-qualities:[True, True], #tdata:1041, #edata:19; tinputs:...[[94.4, 7.1, 58.4], [38.2, 29.8, 86.7]]; toutputs:...[283.6, 210.9]; einputs:...[[3.5, 70.8, 38.8], [18.3, 68.0, 76.3]]; eoutputs:...[112.7, 186.5]\n"
     ]
    }
   ],
   "source": [
    "if mc.get_model_quality(midx) == False:\n",
    "    mc.qlty_threshold = -100\n",
    "    mc.print('After updating qlty_threshold', full=True)\n",
    "    mc.eval_all()\n",
    "    mc.print('After reevaluating all models with the new threshold')\n",
    "    repeat_function(f)\n",
    "    mc.print('After a few more function calls')"
   ]
  },
  {
   "cell_type": "code",
   "execution_count": 11,
   "metadata": {},
   "outputs": [
    {
     "name": "stdout",
     "output_type": "stream",
     "text": [
      "After removing the second model and reverting the threshold: auto_cache=True, auto_id=False, auto_eval=True, auto_train=True, edata_fraction=0.3, feedback_fraction=0.1, qlty_threshold=0.95, ncargs=1, call_target:MC, #functions:1, model-qualities:[True], #tdata:1041, #edata:19; tinputs:...[[94.4, 7.1, 58.4], [38.2, 29.8, 86.7]]; toutputs:...[283.6, 210.9]; einputs:...[[3.5, 70.8, 38.8], [18.3, 68.0, 76.3]]; eoutputs:...[112.7, 186.5]\n"
     ]
    }
   ],
   "source": [
    "mc.remove_model(1)\n",
    "mc.qlty_threshold = 0.95\n",
    "mc.print('After removing the second model and reverting the threshold', full=True)"
   ]
  },
  {
   "cell_type": "code",
   "execution_count": 12,
   "metadata": {},
   "outputs": [
    {
     "name": "stdout",
     "output_type": "stream",
     "text": [
      "After adding a new function: call_target:MC, #functions:2, model-qualities:[True], #tdata:1041, #edata:19; tinputs:...[[94.4, 7.1, 58.4], [38.2, 29.8, 86.7]]; toutputs:...[283.6, 210.9]; einputs:...[[3.5, 70.8, 38.8], [18.3, 68.0, 76.3]]; eoutputs:...[112.7, 186.5]\n"
     ]
    }
   ],
   "source": [
    "fidx = mc.add_function(lambda x: x * x)\n",
    "mc.print('After adding a new function')"
   ]
  },
  {
   "cell_type": "code",
   "execution_count": 13,
   "metadata": {},
   "outputs": [
    {
     "name": "stdout",
     "output_type": "stream",
     "text": [
      "After removing the last function: call_target:MC, #functions:1, model-qualities:[True], #tdata:1041, #edata:19; tinputs:...[[94.4, 7.1, 58.4], [38.2, 29.8, 86.7]]; toutputs:...[283.6, 210.9]; einputs:...[[3.5, 70.8, 38.8], [18.3, 68.0, 76.3]]; eoutputs:...[112.7, 186.5]\n"
     ]
    }
   ],
   "source": [
    "mc.remove_function(fidx)\n",
    "mc.print('After removing the last function')"
   ]
  },
  {
   "cell_type": "code",
   "execution_count": 14,
   "metadata": {},
   "outputs": [
    {
     "name": "stdout",
     "output_type": "stream",
     "text": [
      "After removing all training data: call_target:MC, #functions:1, model-qualities:[True], #tdata:0, #edata:19; tinputs:[]; toutputs:[]; einputs:...[[3.5, 70.8, 38.8], [18.3, 68.0, 76.3]]; eoutputs:...[112.7, 186.5]\n",
      "After a few more function calls: call_target:MC, #functions:1, model-qualities:[True], #tdata:7, #edata:22; tinputs:...[[69.4, 34.4, 24.9], [59.6, 33.8, 72.8]]; toutputs:...[267.4, 285.5]; einputs:...[[3.8, 19.9, 38.3], [16.7, 82.4, 58.9]]; eoutputs:...[69.6, 191.4]\n"
     ]
    }
   ],
   "source": [
    "mc.remove_dataset()\n",
    "mc.print('After removing all training data')\n",
    "repeat_function(f)\n",
    "mc.print('After a few more function calls')"
   ]
  },
  {
   "cell_type": "code",
   "execution_count": 15,
   "metadata": {},
   "outputs": [],
   "source": [
    "@mc.wrap_sensor()\n",
    "def fcopy(x0, x1, x3):  # y\n",
    "    return 3 * x0 + x1 + x3"
   ]
  },
  {
   "cell_type": "code",
   "execution_count": 16,
   "metadata": {},
   "outputs": [
    {
     "name": "stdout",
     "output_type": "stream",
     "text": [
      "After a few direct-sensor calls: call_target:MC, #functions:1, model-qualities:[True], #tdata:12, #edata:27; tinputs:...[[63.0, 30.1, 66.2], [26.3, 52.3, 20.2]]; toutputs:...[285.4, 151.4]; einputs:...[[60.6, 13.7, 83.1], [11.8, 11.4, 10.6]]; eoutputs:...[278.5, 57.3]\n"
     ]
    }
   ],
   "source": [
    "repeat_function(fcopy, arity=3)\n",
    "mc.print('After a few direct-sensor calls')"
   ]
  },
  {
   "cell_type": "code",
   "execution_count": 17,
   "metadata": {},
   "outputs": [
    {
     "name": "stdout",
     "output_type": "stream",
     "text": [
      "After a few inverse-sensor calls: call_target:MC, #functions:1, model-qualities:[True], #tdata:19, #edata:30; tinputs:...[[-11.7, 87.8, 9.3], [-27.8, 96.2, 27.2]]; toutputs:...[62.2, 40.1]; einputs:...[[-3.8, 17.5, 3.9], [-21.5, 64.9, 79.7]]; eoutputs:...[10.0, 80.0]\n"
     ]
    }
   ],
   "source": [
    "@mc.wrap_sensor('inverse')\n",
    "def finv(y, x1, x2):  # x1\n",
    "    return (y - x1 -  x2) / 3\n",
    "\n",
    "repeat_function(finv, arity=3)\n",
    "mc.print('After a few inverse-sensor calls')"
   ]
  },
  {
   "cell_type": "code",
   "execution_count": 18,
   "metadata": {},
   "outputs": [
    {
     "name": "stdout",
     "output_type": "stream",
     "text": [
      "Feedback callback: 10.0 updated to 100.0 in _edata['outputs'][30] for inputs [2, 3, 1]\n"
     ]
    }
   ],
   "source": [
    "globalx = 1\n",
    "y = f(2, 3)\n",
    "y.callback(100.0)\n",
    "for kind in ('tdata', 'edata'):\n",
    "    idx, out = mc.find_data([2, 3, 1], kind)\n",
    "    if idx >= 0:\n",
    "        print(f\"Feedback callback: {y:.1f} updated to {out} in _{kind}['outputs'][{idx}] for inputs [2, 3, 1]\")"
   ]
  },
  {
   "cell_type": "code",
   "execution_count": 19,
   "metadata": {},
   "outputs": [
    {
     "name": "stdout",
     "output_type": "stream",
     "text": [
      "After a few MC calls: call_target:MC, #functions:1, model-qualities:[True], #tdata:24, #edata:36; tinputs:...[[97.8, 67.0, 33.8], [66.2, 24.9, 34.6]]; toutputs:...[405.5, 245.4]; einputs:...[[5.0, 22.3, 64.3], [80.1, 44.8, 85.7]]; eoutputs:...[118.0, 351.0]\n"
     ]
    }
   ],
   "source": [
    "repeat_function(mc, arity=3)\n",
    "mc.print('After a few MC calls')"
   ]
  },
  {
   "cell_type": "code",
   "execution_count": 20,
   "metadata": {},
   "outputs": [
    {
     "name": "stdout",
     "output_type": "stream",
     "text": [
      "Warning: feedback callback couldn't find the inputs (2, 3, 1) in tdata\n"
     ]
    }
   ],
   "source": [
    "globalx = 1\n",
    "y = f(2, 3)\n",
    "mc.remove_dataset('tdata')\n",
    "mc.remove_dataset('edata')\n",
    "y.callback(100.0)"
   ]
  },
  {
   "cell_type": "code",
   "execution_count": 21,
   "metadata": {},
   "outputs": [
    {
     "name": "stdout",
     "output_type": "stream",
     "text": [
      "A new unwrapped MC with one context argument: auto_cache=True, auto_id=False, auto_eval=True, auto_train=True, edata_fraction=0.3, feedback_fraction=0.1, qlty_threshold=0.95, ncargs=1, call_target:MC, #functions:0, model-qualities:[], #tdata:0, #edata:0; tinputs:[]; toutputs:[]; einputs:[]; eoutputs:[]\n",
      "After adding a model: call_target:MC, #functions:0, model-qualities:[True], #tdata:0, #edata:0; tinputs:[]; toutputs:[]; einputs:[]; eoutputs:[]\n",
      "After a few mc calls: call_target:MC, #functions:0, model-qualities:[True], #tdata:8, #edata:2; tinputs:...[[45.1, 65.8, 95.6], [4.9, 93.5, 83.9]]; toutputs:...[296.6, 192.0]; einputs:[[65.7, 71.6, 11.4], [16.4, 14.0, 71.7]]; eoutputs:[280.1, 135.0]\n"
     ]
    }
   ],
   "source": [
    "mc1 = ModelCaller(MCconfig(_ncargs=1))\n",
    "mc1.print('A new unwrapped MC with one context argument', full=True)\n",
    "mc1.add_model(mc.get_model(0), quality=True) # reuse model\n",
    "repeat_function(mc1, arity=3)\n",
    "mc1.print('After a few mc calls')"
   ]
  },
  {
   "cell_type": "code",
   "execution_count": 22,
   "metadata": {},
   "outputs": [
    {
     "name": "stdout",
     "output_type": "stream",
     "text": [
      "A new wrapped MC with only auto-id and no other context argument, after a function call: auto_cache=False, auto_id=True, auto_eval=False, auto_train=False, edata_fraction=0.3, feedback_fraction=0, qlty_threshold=0.95, ncargs=1, call_target:host, #functions:0, model-qualities:[], #tdata:0, #edata:0; tinputs:[]; toutputs:[]; einputs:[]; eoutputs:[]\n"
     ]
    }
   ],
   "source": [
    "@mc_wrapd(auto_id=None)\n",
    "def f2(x0, x1):  # y\n",
    "    return 3 * x0 + x1\n",
    "f2(10,11)\n",
    "f2._mc.print('A new wrapped MC with only auto-id and no other context argument, after a function call', full=True)"
   ]
  },
  {
   "cell_type": "code",
   "execution_count": 23,
   "metadata": {},
   "outputs": [
    {
     "name": "stdout",
     "output_type": "stream",
     "text": [
      "A new MC, after wrapping a model.predict and calling MC: auto_cache=True, auto_id=False, auto_eval=True, auto_train=True, edata_fraction=0.3, feedback_fraction=0.1, qlty_threshold=0.95, ncargs=0, call_target:host, #functions:0, model-qualities:[], #tdata:1, #edata:0; tinputs:[[10, 20, 30]]; toutputs:[[18.0]]; einputs:[]; eoutputs:[]\n"
     ]
    }
   ],
   "source": [
    "m = LinearRegression()\n",
    "m.fit([[1, 2, 3], [3, 4, 5]], [9, 10])\n",
    "fpredict = mc_wrap(m.predict)  # wrapping a predefined function\n",
    "fpredict([[10, 20, 30]])\n",
    "fpredict._mc.print('A new MC, after wrapping a model.predict and calling MC', full=True)"
   ]
  },
  {
   "cell_type": "code",
   "execution_count": 24,
   "metadata": {},
   "outputs": [
    {
     "name": "stdout",
     "output_type": "stream",
     "text": [
      "After adding a model: call_target:host, #functions:0, model-qualities:[True], #tdata:0, #edata:0; tinputs:[]; toutputs:[]; einputs:[]; eoutputs:[]\n",
      "A new MC, after wrapping a model and calling fit and predict: auto_cache=True, auto_id=True, auto_eval=True, auto_train=True, edata_fraction=0.3, feedback_fraction=0.1, qlty_threshold=0.95, ncargs=1, call_target:MC, #functions:0, model-qualities:[True], #tdata:2, #edata:1; tinputs:[[1, 2, 3, 2622603606032], [3, 4, 5, 2622603606032]]; toutputs:[9, 10]; einputs:[[10, 20, 30, 2622603606032]]; eoutputs:[18.0]\n"
     ]
    }
   ],
   "source": [
    "m2 = LinearRegression()\n",
    "m = mc_wrap(m, kind='model', auto_id=True)\n",
    "mc2 = m._mc\n",
    "mc2.merge_host()\n",
    "mc2.train_all((np.array([[1, 2, 3], [3, 4, 5]]), np.array([9, 10])))\n",
    "m(10, 20, 30)\n",
    "mc2.print('A new MC, after wrapping a model and calling fit and predict', full=True)"
   ]
  }
 ],
 "metadata": {
  "kernelspec": {
   "display_name": "mosm",
   "language": "python",
   "name": "python3"
  },
  "language_info": {
   "codemirror_mode": {
    "name": "ipython",
    "version": 3
   },
   "file_extension": ".py",
   "mimetype": "text/x-python",
   "name": "python",
   "nbconvert_exporter": "python",
   "pygments_lexer": "ipython3",
   "version": "3.11.8"
  }
 },
 "nbformat": 4,
 "nbformat_minor": 2
}
